{
 "cells": [
  {
   "cell_type": "markdown",
   "metadata": {},
   "source": [
    "## <b>San Antonio Universities for Students Who don’t Own a Vehicle</b>\n",
    "### Adam Andre, April 10, 2020"
   ]
  },
  {
   "cell_type": "markdown",
   "metadata": {},
   "source": [
    "<b>1. Introduction</b>\n",
    "\n",
    "Which university in the San Antonio area have the most amenities within walking distance? I would have to leverage the Foursquare location data in a small radius around each campus. Answering this question can help potential students (stakeholders) who are planning on living on campus who do not have a vehicle choose a school."
   ]
  },
  {
   "cell_type": "markdown",
   "metadata": {},
   "source": [
    "<b>2. Data</b>\n",
    "\n",
    "I will be utilizing a data set I put together containing eight San Antonio universities, their latitudes and longitudes, and their address. I will use this data set in combination with the Foursquare API to determine how many restaurants, grocery stores, parks, shops, and bus stations are within walking distance of each university. I will determine a weighted score for each category and determine which university is best for students living on campus without a vehicle."
   ]
  },
  {
   "cell_type": "code",
   "execution_count": 4,
   "metadata": {},
   "outputs": [],
   "source": [
    "import pandas as pd\n",
    "import numpy as np\n",
    "import requests"
   ]
  },
  {
   "cell_type": "code",
   "execution_count": 5,
   "metadata": {},
   "outputs": [],
   "source": [
    "df_uni = pd.read_csv('SATXUniversities.csv')"
   ]
  },
  {
   "cell_type": "code",
   "execution_count": 6,
   "metadata": {},
   "outputs": [
    {
     "data": {
      "text/html": [
       "<div>\n",
       "<style scoped>\n",
       "    .dataframe tbody tr th:only-of-type {\n",
       "        vertical-align: middle;\n",
       "    }\n",
       "\n",
       "    .dataframe tbody tr th {\n",
       "        vertical-align: top;\n",
       "    }\n",
       "\n",
       "    .dataframe thead th {\n",
       "        text-align: right;\n",
       "    }\n",
       "</style>\n",
       "<table border=\"1\" class=\"dataframe\">\n",
       "  <thead>\n",
       "    <tr style=\"text-align: right;\">\n",
       "      <th></th>\n",
       "      <th>University</th>\n",
       "      <th>Latitude</th>\n",
       "      <th>Longitude</th>\n",
       "      <th>Address</th>\n",
       "    </tr>\n",
       "  </thead>\n",
       "  <tbody>\n",
       "    <tr>\n",
       "      <th>0</th>\n",
       "      <td>The University of Texas at San Antonio</td>\n",
       "      <td>29.584057</td>\n",
       "      <td>-98.626059</td>\n",
       "      <td>1 UTSA Circle, San Antonio, TX 78249</td>\n",
       "    </tr>\n",
       "    <tr>\n",
       "      <th>1</th>\n",
       "      <td>Trinity University</td>\n",
       "      <td>29.463490</td>\n",
       "      <td>-98.481873</td>\n",
       "      <td>1 Trinity Pl, San Antonio, TX 78212</td>\n",
       "    </tr>\n",
       "    <tr>\n",
       "      <th>2</th>\n",
       "      <td>Texas Lutheran University</td>\n",
       "      <td>29.569571</td>\n",
       "      <td>-97.984154</td>\n",
       "      <td>1000 W Court St, Seguin, TX 78155</td>\n",
       "    </tr>\n",
       "    <tr>\n",
       "      <th>3</th>\n",
       "      <td>St. Mary's University</td>\n",
       "      <td>29.453159</td>\n",
       "      <td>-98.562637</td>\n",
       "      <td>1 Camino Santa Maria, San Antonio, TX 78228</td>\n",
       "    </tr>\n",
       "    <tr>\n",
       "      <th>4</th>\n",
       "      <td>Our Lady of the Lake University</td>\n",
       "      <td>29.426729</td>\n",
       "      <td>-98.544159</td>\n",
       "      <td>411 SW 24th St, San Antonio, TX 78207</td>\n",
       "    </tr>\n",
       "    <tr>\n",
       "      <th>5</th>\n",
       "      <td>University of the Incarnate Word</td>\n",
       "      <td>29.470289</td>\n",
       "      <td>-98.472252</td>\n",
       "      <td>4301 Broadway St, San Antonio, TX 78209</td>\n",
       "    </tr>\n",
       "    <tr>\n",
       "      <th>6</th>\n",
       "      <td>Texas A&amp;M University-San Antonio</td>\n",
       "      <td>29.312670</td>\n",
       "      <td>-98.524811</td>\n",
       "      <td>One University Way, San Antonio, TX 78224</td>\n",
       "    </tr>\n",
       "    <tr>\n",
       "      <th>7</th>\n",
       "      <td>Texas State University</td>\n",
       "      <td>29.889000</td>\n",
       "      <td>-97.934547</td>\n",
       "      <td>601 University Dr, San Marcos, TX 78666</td>\n",
       "    </tr>\n",
       "  </tbody>\n",
       "</table>\n",
       "</div>"
      ],
      "text/plain": [
       "                               University   Latitude  Longitude  \\\n",
       "0  The University of Texas at San Antonio  29.584057 -98.626059   \n",
       "1                      Trinity University  29.463490 -98.481873   \n",
       "2               Texas Lutheran University  29.569571 -97.984154   \n",
       "3                   St. Mary's University  29.453159 -98.562637   \n",
       "4         Our Lady of the Lake University  29.426729 -98.544159   \n",
       "5        University of the Incarnate Word  29.470289 -98.472252   \n",
       "6        Texas A&M University-San Antonio  29.312670 -98.524811   \n",
       "7                  Texas State University  29.889000 -97.934547   \n",
       "\n",
       "                                       Address  \n",
       "0         1 UTSA Circle, San Antonio, TX 78249  \n",
       "1          1 Trinity Pl, San Antonio, TX 78212  \n",
       "2            1000 W Court St, Seguin, TX 78155  \n",
       "3  1 Camino Santa Maria, San Antonio, TX 78228  \n",
       "4        411 SW 24th St, San Antonio, TX 78207  \n",
       "5      4301 Broadway St, San Antonio, TX 78209  \n",
       "6    One University Way, San Antonio, TX 78224  \n",
       "7      601 University Dr, San Marcos, TX 78666  "
      ]
     },
     "execution_count": 6,
     "metadata": {},
     "output_type": "execute_result"
    }
   ],
   "source": [
    "df_uni"
   ]
  }
 ],
 "metadata": {
  "kernelspec": {
   "display_name": "Python",
   "language": "python",
   "name": "conda-env-python-py"
  },
  "language_info": {
   "codemirror_mode": {
    "name": "ipython",
    "version": 3
   },
   "file_extension": ".py",
   "mimetype": "text/x-python",
   "name": "python",
   "nbconvert_exporter": "python",
   "pygments_lexer": "ipython3",
   "version": "3.6.10"
  }
 },
 "nbformat": 4,
 "nbformat_minor": 4
}
